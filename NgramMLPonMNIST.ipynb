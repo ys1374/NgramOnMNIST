{
 "cells": [
  {
   "cell_type": "code",
   "execution_count": 16,
   "metadata": {},
   "outputs": [],
   "source": [
    "import torch\n",
    "import torch.nn.functional as F\n",
    "import matplotlib.pyplot as plt # for making figures\n",
    "# %matplotlib inline\n",
    "\n",
    "import torch.nn as nn\n",
    "from torchvision.datasets import MNIST\n",
    "import torchvision.transforms as transforms"
   ]
  },
  {
   "cell_type": "code",
   "execution_count": 17,
   "metadata": {},
   "outputs": [],
   "source": [
    "#meta1 \n",
    "targetLabel = 1\n",
    "\n",
    "#meta2\n",
    "block_size = 7 # context length: how many characters do we take to predict the next one?\n",
    "\n",
    "featureDim = 50 # features per character in context of 3 characters\n",
    "hiddenNeurons = 500\n",
    "\n",
    "bachSize = 64\n",
    "\n",
    "numberOfClass = 21"
   ]
  },
  {
   "cell_type": "code",
   "execution_count": 18,
   "metadata": {},
   "outputs": [],
   "source": [
    "dataset = MNIST(root = 'data/', train = True, transform = transforms.ToTensor()) # download = True"
   ]
  },
  {
   "cell_type": "code",
   "execution_count": 19,
   "metadata": {},
   "outputs": [
    {
     "name": "stdout",
     "output_type": "stream",
     "text": [
      "Number of samples with label 1: 6742\n"
     ]
    }
   ],
   "source": [
    "#code is it just for ones(targetLabel = 1) in the dataset\n",
    "\n",
    "\n",
    "# Create a mask for the specific label\n",
    "mask = dataset.targets == targetLabel\n",
    "\n",
    "# Apply the mask to filter the dataset\n",
    "filteredData = dataset.data[mask]\n",
    "filteredLabels = dataset.targets[mask]\n",
    "\n",
    "filteredDataset = torch.utils.data.TensorDataset(filteredData, filteredLabels)\n",
    "print(f\"Number of samples with label {targetLabel}: {len(filteredDataset)}\")\n"
   ]
  },
  {
   "cell_type": "code",
   "execution_count": 20,
   "metadata": {},
   "outputs": [],
   "source": [
    "# maxPooling dimension (from 28*28 to 14*14)\n",
    "maxPooling = nn.MaxPool2d(2, stride=2)\n",
    "pooledData = maxPooling(filteredData)\n",
    "# print(\"Output Size:\",pooledData.size()[0])"
   ]
  },
  {
   "cell_type": "code",
   "execution_count": 21,
   "metadata": {},
   "outputs": [],
   "source": [
    "# converting [6742, 14, 14] to [6742, 196]\n",
    "flattenedData = torch.flatten(pooledData, start_dim=1, end_dim=2)"
   ]
  },
  {
   "cell_type": "code",
   "execution_count": 22,
   "metadata": {},
   "outputs": [],
   "source": [
    "# i tried to convert he regression to clasification, each 0.05 is considered a class\n",
    "normalChainSequence = ((((flattenedData/255.0)* 20.0).round_() /20.0)/0.05)\n",
    "normalChainSequence = normalChainSequence.type(torch.int16)\n",
    "normalChainSequence = normalChainSequence.long()"
   ]
  },
  {
   "cell_type": "code",
   "execution_count": 23,
   "metadata": {},
   "outputs": [],
   "source": [
    "# func converting [6742, 196] to a long Sequence of pixels\n",
    "def build_dataset(normalchainSequenceOfOneData):\n",
    "    x = torch.flatten(normalchainSequenceOfOneData, start_dim=0, end_dim=1).view(-1, block_size)\n",
    "    y = torch.cat((x[1:, 0], torch.tensor([0])))\n",
    "    # \n",
    "    return x, y"
   ]
  },
  {
   "cell_type": "code",
   "execution_count": 24,
   "metadata": {},
   "outputs": [],
   "source": [
    "#spliting dataset\n",
    "import random\n",
    "random.seed(42)\n",
    "random.shuffle(normalChainSequence)\n",
    "n1 = int(0.8*len(normalChainSequence))\n",
    "n2 = int(0.9*len(normalChainSequence))\n",
    "\n",
    "Xtr, Ytr = build_dataset(normalChainSequence[:n1,:])\n",
    "Xdev, Ydev = build_dataset(normalChainSequence[n1:n2,])\n",
    "Xte, Yte = build_dataset(normalChainSequence[n2:,])"
   ]
  },
  {
   "cell_type": "code",
   "execution_count": 25,
   "metadata": {},
   "outputs": [
    {
     "data": {
      "text/plain": [
       "torch.Size([18872, 7])"
      ]
     },
     "execution_count": 25,
     "metadata": {},
     "output_type": "execute_result"
    }
   ],
   "source": [
    "Xdev.shape"
   ]
  },
  {
   "cell_type": "markdown",
   "metadata": {},
   "source": [
    "## all data prparing until now"
   ]
  },
  {
   "cell_type": "code",
   "execution_count": 26,
   "metadata": {},
   "outputs": [],
   "source": [
    "# build parameers\n",
    "g = torch.Generator().manual_seed(2147483647) # for reproducibility\n",
    "C = torch.randn((numberOfClass, featureDim), generator=g, requires_grad = True)\n",
    "W1 = torch.randn((block_size*featureDim, hiddenNeurons), generator=g, requires_grad = True)\n",
    "b1 = torch.randn(hiddenNeurons, generator=g, requires_grad = True)\n",
    "W2 = torch.randn((hiddenNeurons, numberOfClass), generator=g, requires_grad = True)\n",
    "b2 = torch.randn(numberOfClass, generator=g, requires_grad = True)\n",
    "parameters = [C, W1, b1, W2, b2]"
   ]
  },
  {
   "cell_type": "code",
   "execution_count": 27,
   "metadata": {},
   "outputs": [
    {
     "data": {
      "text/plain": [
       "187071"
      ]
     },
     "execution_count": 27,
     "metadata": {},
     "output_type": "execute_result"
    }
   ],
   "source": [
    "# number of parameters in total\n",
    "sum(p.nelement() for p in parameters) "
   ]
  },
  {
   "cell_type": "code",
   "execution_count": 28,
   "metadata": {},
   "outputs": [],
   "source": [
    "lri = []\n",
    "lossi = []\n",
    "stepi = []"
   ]
  },
  {
   "cell_type": "code",
   "execution_count": 29,
   "metadata": {},
   "outputs": [],
   "source": [
    "epoch = 30000\n",
    "for i in range(epoch):\n",
    "  \n",
    "  # minibatch construct\n",
    "  ix = torch.randint(0, Xtr.shape[0], (bachSize,))\n",
    "  \n",
    "  # forward pass\n",
    "  emb = C[Xtr[ix]] # (32, 3, 10)\n",
    "  h = torch.tanh(emb.view(-1, block_size*featureDim) @ W1 + b1) # (32, 200)\n",
    "  logits = h @ W2 + b2 # (32, 27)\n",
    "  loss = F.cross_entropy(logits, Ytr[ix])\n",
    "  #print(loss.item())\n",
    "  \n",
    "  # backward pass\n",
    "  for p in parameters:\n",
    "    p.grad = None\n",
    "  loss.backward()\n",
    "  \n",
    "  # update\n",
    "  #lr = lrs[i]\n",
    "  lr = 0.1 if i < epoch/2 else 0.01\n",
    "  for p in parameters:\n",
    "    p.data += -lr * p.grad\n",
    "\n",
    "  # track stats\n",
    "  #lri.append(lre[i])\n",
    "  stepi.append(i)\n",
    "  lossi.append(loss.log10().item())\n",
    "\n",
    "#print(loss.item())"
   ]
  },
  {
   "cell_type": "code",
   "execution_count": 30,
   "metadata": {},
   "outputs": [
    {
     "data": {
      "text/plain": [
       "[<matplotlib.lines.Line2D at 0x15740762e10>]"
      ]
     },
     "execution_count": 30,
     "metadata": {},
     "output_type": "execute_result"
    },
    {
     "data": {
      "image/png": "[encoded data removed]",
      "text/plain": [
       "<Figure size 640x480 with 1 Axes>"
      ]
     },
     "metadata": {},
     "output_type": "display_data"
    }
   ],
   "source": [
    "plt.plot(stepi, lossi)"
   ]
  },
  {
   "cell_type": "code",
   "execution_count": 31,
   "metadata": {},
   "outputs": [],
   "source": [
    "def lossFunc (C, Y):\n",
    "    h = torch.tanh(C.view(-1, block_size*featureDim) @ W1 + b1) # (32, 100)\n",
    "    logits = h @ W2 + b2 # (32, 27)\n",
    "    loss = F.cross_entropy(logits, Y)\n",
    "    return loss\n"
   ]
  },
  {
   "cell_type": "code",
   "execution_count": 32,
   "metadata": {},
   "outputs": [
    {
     "name": "stdout",
     "output_type": "stream",
     "text": [
      "loss train: 0.6298198699951172\n",
      "loss DEV: 0.6663559079170227\n"
     ]
    }
   ],
   "source": [
    "print('loss train:', lossFunc(C[Xtr], Ytr).item())\n",
    "print('loss DEV:', lossFunc(C[Xdev], Ydev).item())"
   ]
  },
  {
   "cell_type": "code",
   "execution_count": 33,
   "metadata": {},
   "outputs": [
    {
     "data": {
      "text/plain": [
       "torch.Size([1, 7, 50])"
      ]
     },
     "execution_count": 33,
     "metadata": {},
     "output_type": "execute_result"
    }
   ],
   "source": [
    "context = [0] * block_size\n",
    "C[torch.tensor([context])].shape"
   ]
  },
  {
   "cell_type": "code",
   "execution_count": 34,
   "metadata": {},
   "outputs": [
    {
     "name": "stdout",
     "output_type": "stream",
     "text": [
      "[0, 20, 20, 20, 0, 0, 0, 0, 0, 0, 0, 0, 0, 20, 20, 6, 0, 0, 0, 0, 0, 0, 0, 0, 0, 0, 20, 20, 18, 0, 0, 0, 0, 0, 0, 0, 0, 0, 0, 0, 0, 0, 0, 0, 0, 0, 20, 12, 0, 0, 0, 0, 0, 0, 0, 20, 20, 20, 0, 0, 0, 0, 0, 0, 0, 17, 20, 20, 20, 0, 0, 0, 0, 0, 0, 0, 0, 0, 20, 20, 20, 1, 0, 0, 0, 0, 0, 0, 0, 2, 20, 18, 0, 0, 0, 0, 0, 0, 0, 0, 0, 0, 0, 0, 0, 0, 0, 20, 12, 0, 0, 0, 0, 0, 0, 0, 0, 0, 6, 20, 20, 0, 0, 0, 0, 0, 0, 0, 0, 0, 0, 0, 0, 0, 0, 0, 5, 20, 20, 0, 0, 0, 0, 0, 0, 0, 0, 0, 0, 0, 0, 0, 0, 8, 20, 12, 0, 0, 0, 0, 0, 0, 0, 0, 0, 0, 0, 0, 0, 10, 20, 12, 0, 0, 0, 0, 0, 0, 0, 0, 0, 20, 20, 20, 19, 0, 0, 0, 0, 0, 0, 0, 0, 0, 0, 0]\n"
     ]
    },
    {
     "data": {
      "text/plain": [
       "<matplotlib.image.AxesImage at 0x1574075f590>"
      ]
     },
     "execution_count": 34,
     "metadata": {},
     "output_type": "execute_result"
    },
    {
     "data": {
      "image/png": "[encoded data removed]",
      "text/plain": [
       "<Figure size 640x480 with 1 Axes>"
      ]
     },
     "metadata": {},
     "output_type": "display_data"
    }
   ],
   "source": [
    "# sample from the model\n",
    "g = torch.Generator().manual_seed(2147483647 + 10)\n",
    "\n",
    "for _ in range(1):\n",
    "    i = 0\n",
    "    out = []\n",
    "    context = [0] * block_size # initialize with all ...\n",
    "    while True:\n",
    "      emb = C[torch.tensor([context])] # (1,block_size,d)\n",
    "      h = torch.tanh(emb.view(1, -1) @ W1 + b1)\n",
    "      logits = h @ W2 + b2\n",
    "      probs = F.softmax(logits, dim=1)\n",
    "      ix = torch.multinomial(probs, num_samples=1, generator=g).item()\n",
    "      context = context[1:] + [ix]\n",
    "      out.append(ix)\n",
    "      i+=1\n",
    "      if i == 196:\n",
    "        break\n",
    "    \n",
    "print(out)\n",
    "plt.imshow(torch.tensor(out).view(14, 14), cmap = 'gray')"
   ]
  }
 ],
 "metadata": {
  "kernelspec": {
   "display_name": "Python 3",
   "language": "python",
   "name": "python3"
  },
  "language_info": {
   "codemirror_mode": {
    "name": "ipython",
    "version": 3
   },
   "file_extension": ".py",
   "mimetype": "text/x-python",
   "name": "python",
   "nbconvert_exporter": "python",
   "pygments_lexer": "ipython3",
   "version": "3.12.6"
  }
 },
 "nbformat": 4,
 "nbformat_minor": 4
}
